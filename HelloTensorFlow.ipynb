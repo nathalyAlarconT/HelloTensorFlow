{
  "nbformat": 4,
  "nbformat_minor": 0,
  "metadata": {
    "colab": {
      "name": "HelloTensorFlow",
      "provenance": [],
      "collapsed_sections": [],
      "authorship_tag": "ABX9TyNLdmpKn/UyeNoixPe7U3Dv",
      "include_colab_link": true
    },
    "kernelspec": {
      "name": "python3",
      "display_name": "Python 3"
    }
  },
  "cells": [
    {
      "cell_type": "markdown",
      "metadata": {
        "id": "view-in-github",
        "colab_type": "text"
      },
      "source": [
        "<a href=\"https://colab.research.google.com/github/nathalyAlarconT/HelloTensorFlow/blob/master/HelloTensorFlow.ipynb\" target=\"_parent\"><img src=\"https://colab.research.google.com/assets/colab-badge.svg\" alt=\"Open In Colab\"/></a>"
      ]
    },
    {
      "cell_type": "markdown",
      "metadata": {
        "id": "EbUwzgulCfQb",
        "colab_type": "text"
      },
      "source": [
        "**Women in Data Science La Paz 2020**\n"
      ]
    },
    {
      "cell_type": "markdown",
      "metadata": {
        "id": "P-_xf18G4GmB",
        "colab_type": "text"
      },
      "source": [
        "Puedes encontrar las diapositivas en el siguiente link:  https://docs.google.com/presentation/d/1e4OHeGiglNXLifaBXCm6xQeCCvkqjKpSSOHQXxaVQaQ/edit?usp=sharing\n",
        "\n",
        "\n"
      ]
    },
    {
      "cell_type": "markdown",
      "metadata": {
        "id": "0fKljZNUAnPd",
        "colab_type": "text"
      },
      "source": [
        "# CODELAB: HELLO TENSORFLOW"
      ]
    },
    {
      "cell_type": "markdown",
      "metadata": {
        "id": "OhYVTXUl4QaM",
        "colab_type": "text"
      },
      "source": [
        "Vamos a cargar la librería de TensorFlow.\n",
        "Viene pre-instalada en el ambiente de Google Colab"
      ]
    },
    {
      "cell_type": "code",
      "metadata": {
        "id": "zE68gadB3Kso",
        "colab_type": "code",
        "colab": {}
      },
      "source": [
        "import tensorflow as tf"
      ],
      "execution_count": 0,
      "outputs": []
    },
    {
      "cell_type": "code",
      "metadata": {
        "id": "nxVigeSY8TFC",
        "colab_type": "code",
        "colab": {}
      },
      "source": [
        "import numpy as np\n",
        "import pandas as pd"
      ],
      "execution_count": 0,
      "outputs": []
    },
    {
      "cell_type": "markdown",
      "metadata": {
        "id": "kGAncYww4ZdK",
        "colab_type": "text"
      },
      "source": [
        "Ahora vamos a verificar la versión de la librería. \n",
        "\n",
        "Existen cambios muy importantes en la versión 2 de TensorFlow :)"
      ]
    },
    {
      "cell_type": "code",
      "metadata": {
        "id": "yTi0s-_I3fv3",
        "colab_type": "code",
        "colab": {}
      },
      "source": [
        "print(tf.__version__)"
      ],
      "execution_count": 0,
      "outputs": []
    },
    {
      "cell_type": "markdown",
      "metadata": {
        "id": "S5ygFOHb5isG",
        "colab_type": "text"
      },
      "source": [
        "Vamos a trabajar con los datos del fashion_mnist"
      ]
    },
    {
      "cell_type": "code",
      "metadata": {
        "id": "Pe3k0u9u3sT6",
        "colab_type": "code",
        "colab": {}
      },
      "source": [
        "fashion_mnist_data = tf.keras.datasets.fashion_mnist"
      ],
      "execution_count": 0,
      "outputs": []
    },
    {
      "cell_type": "code",
      "metadata": {
        "id": "WK0hTYL634yg",
        "colab_type": "code",
        "colab": {}
      },
      "source": [
        "(train_images, train_labels), (test_images, test_labels) = fashion_mnist_data.load_data()\n"
      ],
      "execution_count": 0,
      "outputs": []
    },
    {
      "cell_type": "markdown",
      "metadata": {
        "id": "xB-6PQLQ6GY5",
        "colab_type": "text"
      },
      "source": [
        "Analicemos las dimensiones de nuestro dataset"
      ]
    },
    {
      "cell_type": "code",
      "metadata": {
        "id": "wsn1MWMj6D9W",
        "colab_type": "code",
        "colab": {}
      },
      "source": [
        "train_images.shape"
      ],
      "execution_count": 0,
      "outputs": []
    },
    {
      "cell_type": "code",
      "metadata": {
        "id": "nYtuGE6K6K5z",
        "colab_type": "code",
        "colab": {}
      },
      "source": [
        "train_labels"
      ],
      "execution_count": 0,
      "outputs": []
    },
    {
      "cell_type": "markdown",
      "metadata": {
        "id": "h5aVBn6s56tj",
        "colab_type": "text"
      },
      "source": [
        "Las etiquetas para cada una de las imágenes, son las siguientes:"
      ]
    },
    {
      "cell_type": "code",
      "metadata": {
        "id": "e5uCZU8i38fx",
        "colab_type": "code",
        "colab": {}
      },
      "source": [
        "# Labels for the fashion mnist dataset\n",
        "labels = [\n",
        "  'T-shirt/top',\n",
        "  'Trouser',\n",
        "  'Pullover',\n",
        "  'Dress', \n",
        "  'Coat',\n",
        "  'Sandal', \n",
        "  'Shirt',\n",
        "  'Sneaker',\n",
        "  'Bag',\n",
        "  'Ankle boot'\n",
        "]\n"
      ],
      "execution_count": 0,
      "outputs": []
    },
    {
      "cell_type": "code",
      "metadata": {
        "id": "bfe1Hx146Uiw",
        "colab_type": "code",
        "colab": {}
      },
      "source": [
        "print(train_labels[0])"
      ],
      "execution_count": 0,
      "outputs": []
    },
    {
      "cell_type": "markdown",
      "metadata": {
        "id": "94rtH0BA6Yhp",
        "colab_type": "text"
      },
      "source": [
        "Vamos a ajustar los valores de las imagenes para que esten en el rango de 255"
      ]
    },
    {
      "cell_type": "code",
      "metadata": {
        "id": "cEmgNm3b6XVi",
        "colab_type": "code",
        "colab": {}
      },
      "source": [
        "train_images = train_images / 255.\n",
        "test_images = test_images / 255."
      ],
      "execution_count": 0,
      "outputs": []
    },
    {
      "cell_type": "markdown",
      "metadata": {
        "id": "pDKLMRmt6hHy",
        "colab_type": "text"
      },
      "source": [
        "Veamos una de las imágenes"
      ]
    },
    {
      "cell_type": "code",
      "metadata": {
        "id": "c-NfrFxt6s_U",
        "colab_type": "code",
        "colab": {}
      },
      "source": [
        "from tensorflow.keras.preprocessing import image\n",
        "import matplotlib.pyplot as plt\n",
        "\n"
      ],
      "execution_count": 0,
      "outputs": []
    },
    {
      "cell_type": "code",
      "metadata": {
        "id": "95kxsdVI6kcZ",
        "colab_type": "code",
        "colab": {}
      },
      "source": [
        "# Puedes cambiar el valor de i para mostrar un elemento diferente\n",
        "\n",
        "i = 1003\n",
        "\n",
        "img = train_images[i, : , :]\n",
        "plt.imshow(img)\n",
        "plt.show()\n",
        "print(f\"Clase/Etiqueta :  {labels[train_labels[i]]}\")"
      ],
      "execution_count": 0,
      "outputs": []
    },
    {
      "cell_type": "markdown",
      "metadata": {
        "id": "-c4rYfPq5VkT",
        "colab_type": "text"
      },
      "source": [
        "Vamos a definir una red neuronal de capas secuenciales. "
      ]
    },
    {
      "cell_type": "code",
      "metadata": {
        "id": "KKS4IqZ93kfX",
        "colab_type": "code",
        "colab": {}
      },
      "source": [
        "from tensorflow.keras.models import Sequential"
      ],
      "execution_count": 0,
      "outputs": []
    },
    {
      "cell_type": "markdown",
      "metadata": {
        "id": "WdxLomBC5W6q",
        "colab_type": "text"
      },
      "source": [
        "Vamos a importar las capas de las redes neuronales básicas que usaremos"
      ]
    },
    {
      "cell_type": "code",
      "metadata": {
        "id": "dK_jxYGW3pV5",
        "colab_type": "code",
        "colab": {}
      },
      "source": [
        "from tensorflow.keras.layers import Dense, Flatten, Conv2D, MaxPooling2D"
      ],
      "execution_count": 0,
      "outputs": []
    },
    {
      "cell_type": "markdown",
      "metadata": {
        "id": "ApfVNREL7eEl",
        "colab_type": "text"
      },
      "source": [
        "Creamos una red neuronal básica"
      ]
    },
    {
      "cell_type": "code",
      "metadata": {
        "id": "ODpFT9Qj6Bv9",
        "colab_type": "code",
        "colab": {}
      },
      "source": [
        "# Build a sequential convolutional neural network model\n",
        "model = Sequential([\n",
        "  Conv2D(16, (3,3), activation = 'relu', input_shape=(28,28, 1), data_format='channels_last' ),  #padding = 'SAME', strides=2\n",
        "  MaxPooling2D((3,3)),\n",
        "  Flatten(),\n",
        "  Dense(10, activation = 'softmax')\n",
        "\n",
        "])"
      ],
      "execution_count": 0,
      "outputs": []
    },
    {
      "cell_type": "markdown",
      "metadata": {
        "id": "KckdZb1K7oSx",
        "colab_type": "text"
      },
      "source": [
        "Analicemos la estructura de la red neuronal que acabamos de crear "
      ]
    },
    {
      "cell_type": "code",
      "metadata": {
        "id": "0PlguE0c36io",
        "colab_type": "code",
        "colab": {}
      },
      "source": [
        "model.summary()"
      ],
      "execution_count": 0,
      "outputs": []
    },
    {
      "cell_type": "markdown",
      "metadata": {
        "id": "XO3IEaHY7vv7",
        "colab_type": "text"
      },
      "source": [
        "Vamos a compilar el modelo"
      ]
    },
    {
      "cell_type": "code",
      "metadata": {
        "id": "lz54vdXz3-rJ",
        "colab_type": "code",
        "colab": {}
      },
      "source": [
        "model.compile(optimizer='adam', loss='sparse_categorical_crossentropy', metrics=[\"accuracy\", \"mae\"])"
      ],
      "execution_count": 0,
      "outputs": []
    },
    {
      "cell_type": "markdown",
      "metadata": {
        "id": "wew02Wep8GlL",
        "colab_type": "text"
      },
      "source": [
        "Vamos a entrenar el modelo"
      ]
    },
    {
      "cell_type": "code",
      "metadata": {
        "id": "EAvNWSzt4Alg",
        "colab_type": "code",
        "colab": {}
      },
      "source": [
        "history = model.fit(train_images[...,np.newaxis], train_labels, epochs=8, batch_size=256)"
      ],
      "execution_count": 0,
      "outputs": []
    },
    {
      "cell_type": "code",
      "metadata": {
        "id": "JU3ykHXQ4C2X",
        "colab_type": "code",
        "colab": {}
      },
      "source": [
        "df = pd.DataFrame(history.history)\n",
        "df.head()"
      ],
      "execution_count": 0,
      "outputs": []
    },
    {
      "cell_type": "code",
      "metadata": {
        "id": "0oBkzjF48ptX",
        "colab_type": "code",
        "colab": {}
      },
      "source": [
        "loss_plot = df.plot(y='loss', title='Loss vs Epochs', legend=False)\n",
        "loss_plot.set(xlabel='Epochs', ylabel='Loss')\n"
      ],
      "execution_count": 0,
      "outputs": []
    },
    {
      "cell_type": "markdown",
      "metadata": {
        "id": "L_gn-mDb8yYW",
        "colab_type": "text"
      },
      "source": [
        "Vamos a evaluar el modelo, con el dataset de test. "
      ]
    },
    {
      "cell_type": "code",
      "metadata": {
        "id": "UbUrTe858x51",
        "colab_type": "code",
        "colab": {}
      },
      "source": [
        "# Evaluate the model\n",
        "test_loss, test_accuracy, test_mae = model.evaluate(test_images[..., np.newaxis], test_labels)"
      ],
      "execution_count": 0,
      "outputs": []
    },
    {
      "cell_type": "markdown",
      "metadata": {
        "id": "i32XRtBD8_w4",
        "colab_type": "text"
      },
      "source": [
        "Hagamos una predicción "
      ]
    },
    {
      "cell_type": "code",
      "metadata": {
        "id": "Hya-AOBI9OBV",
        "colab_type": "code",
        "colab": {}
      },
      "source": [
        "elementro_random = np.random.choice(test_images.shape[0])\n",
        "elementro_random"
      ],
      "execution_count": 0,
      "outputs": []
    },
    {
      "cell_type": "code",
      "metadata": {
        "id": "BYf0YbkA8tU9",
        "colab_type": "code",
        "colab": {}
      },
      "source": [
        "test_image = test_images[elementro_random]\n",
        "plt.imshow(test_image)\n",
        "plt.show()\n",
        "print(f\"Label: {labels[test_labels[elementro_random]]}\")"
      ],
      "execution_count": 0,
      "outputs": []
    },
    {
      "cell_type": "code",
      "metadata": {
        "id": "MHvRGKFn9E7Q",
        "colab_type": "code",
        "colab": {}
      },
      "source": [
        "predictions = model.predict(test_image[np.newaxis,...,np.newaxis])\n",
        "print(f\"Model Prediction: {labels[np.argmax(predictions)]}\")"
      ],
      "execution_count": 0,
      "outputs": []
    }
  ]
}